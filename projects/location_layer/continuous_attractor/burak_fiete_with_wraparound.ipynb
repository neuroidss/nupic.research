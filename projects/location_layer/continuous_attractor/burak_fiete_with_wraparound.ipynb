{
 "cells": [
  {
   "cell_type": "code",
   "execution_count": null,
   "metadata": {
    "inputHidden": false,
    "outputHidden": false
   },
   "outputs": [],
   "source": [
    "import math\n",
    "import json\n",
    "\n",
    "import numpy as np\n",
    "\n",
    "import htmresearchviz0.IPython_support\n",
    "from htmresearchviz0.IPython_support import (printSpikeRatesSnapshot,\n",
    "                                             printSpikeRatesTimeline,\n",
    "                                             printInputWeights,\n",
    "                                             printOutputWeights)\n",
    "htmresearchviz0.IPython_support.init_notebook_mode()"
   ]
  },
  {
   "cell_type": "code",
   "execution_count": null,
   "metadata": {},
   "outputs": [],
   "source": [
    "def w_0(x):\n",
    "    \"\"\"\n",
    "    @param x (numpy array)\n",
    "    A point\n",
    "    \"\"\"\n",
    "    a = 1.0\n",
    "    lambda_net = 13.0\n",
    "    beta = 3.0 / lambda_net**2\n",
    "    gamma = 1.05 * beta\n",
    "    \n",
    "    x_length_squared = x[0]**2 + x[1]**2\n",
    "    \n",
    "    return a*math.exp(-gamma*x_length_squared) - math.exp(-beta*x_length_squared)\n",
    "\n",
    "\n",
    "class ContinuousAttractorModule(object):\n",
    "    \"\"\"\n",
    "    Implementation of the Burak/Fiete 2009 attractor model. (With wrap-around topology)\n",
    "    \"\"\"\n",
    "    def __init__(self, dimensions, dt=0.0005):\n",
    "        \n",
    "        self.dt = dt\n",
    "        \n",
    "        self.preferredDirections = {\n",
    "            \"n\": np.array([-1.0, 0.0]),\n",
    "            \"e\": np.array([0.0, 1.0]),\n",
    "            \"s\": np.array([1.0, 0.0]),\n",
    "            \"w\": np.array([0.0, -1.0])\n",
    "        }\n",
    "        \n",
    "        self.dimensions = np.array(dimensions, dtype=\"int\")\n",
    "        \n",
    "        self.numCellGroups = self.dimensions[0] * self.dimensions[1]\n",
    "\n",
    "        self.firingRates = dict((k, np.zeros(self.numCellGroups, dtype=\"float\"))\n",
    "                                for k in self.preferredDirections.iterkeys())\n",
    "        self.recurrentWeights = dict((k, np.zeros((self.numCellGroups, self.numCellGroups), dtype=\"float\"))\n",
    "                                     for k in self.preferredDirections.iterkeys())\n",
    "        \n",
    "        for k, preferredDirection in self.preferredDirections.iteritems():\n",
    "            \n",
    "            # Calculate it once\n",
    "            jCoord0 = np.unravel_index(0, self.dimensions)\n",
    "\n",
    "            assert self.dimensions[0] == self.dimensions[1]\n",
    "            jTargetCoord = np.mod(jCoord0 + preferredDirection, self.dimensions[0])\n",
    "            \n",
    "            weights = np.zeros(self.dimensions, dtype=\"float\")\n",
    "\n",
    "            for i in xrange(self.numCellGroups):\n",
    "                iCoord = np.unravel_index(i, self.dimensions)\n",
    "\n",
    "                distanceComponents1 = np.abs(iCoord - jTargetCoord)\n",
    "\n",
    "                # The two points might actually be closer by wrapping around one/two of the edges.\n",
    "                # For each dimension, consider what the alternate distance would have been,\n",
    "                # and choose the lowest.\n",
    "                distanceComponents2 = float(self.dimensions[0]) - distanceComponents1\n",
    "                distanceComponents = np.where(distanceComponents1 < distanceComponents2,\n",
    "                                              distanceComponents1, distanceComponents2)\n",
    "                \n",
    "                weights[iCoord] = w_0(distanceComponents)\n",
    "                \n",
    "                \n",
    "            for j in xrange(self.numCellGroups):\n",
    "\n",
    "                jCoord = np.unravel_index(j, self.dimensions)\n",
    "                \n",
    "                self.recurrentWeights[k][:,j] = np.roll(np.roll(weights, jCoord[0], axis=0),\n",
    "                        jCoord[1], axis=1).flatten()\n",
    "                #self.recurrentWeights[k][:,j] = np.roll(weights, tuple(jCoord), (0, 1,)).flatten()\n",
    "\n",
    "                    \n",
    "    def step(self, v):\n",
    "        alpha = 0.10315\n",
    "        tau = 0.010\n",
    "        \n",
    "        # Recurrent input is the same for all preferred directions.\n",
    "        # So we only need to calculate it once.\n",
    "        recurrentInput = np.zeros(self.numCellGroups, dtype=\"float\")\n",
    "\n",
    "        for k in self.preferredDirections.iterkeys():\n",
    "            recurrentInput += np.dot(self.recurrentWeights[k],\n",
    "                                     self.firingRates[k])\n",
    "\n",
    "        for k, preferredDirection in self.preferredDirections.iteritems():\n",
    "            feedforwardInput = 1.0 + alpha*np.dot(preferredDirection, v)\n",
    "            \n",
    "            totalInput = recurrentInput + feedforwardInput\n",
    "            totalInput[totalInput < 0.0] = 0.0\n",
    "            \n",
    "            dsdt = (totalInput - self.firingRates[k]) / tau\n",
    "            \n",
    "            ds = dsdt * self.dt\n",
    "            \n",
    "            self.firingRates[k] += ds\n"
   ]
  },
  {
   "cell_type": "markdown",
   "metadata": {},
   "source": [
    "# Recurrent connections"
   ]
  },
  {
   "cell_type": "code",
   "execution_count": null,
   "metadata": {},
   "outputs": [],
   "source": [
    "dimensions = (32, 32)\n",
    "can = ContinuousAttractorModule(dimensions)"
   ]
  },
  {
   "cell_type": "markdown",
   "metadata": {},
   "source": [
    "Here are the outputs of each cell. Hover over a cell to see its inhibitory output. Red means strong inhibition.\n",
    "\n",
    "(It might take a second to load)"
   ]
  },
  {
   "cell_type": "code",
   "execution_count": null,
   "metadata": {},
   "outputs": [],
   "source": [
    "printOutputWeights(json.dumps({\n",
    "    \"dimensions\": dimensions,\n",
    "    \"inputMatrices\": dict((k, weights.tolist())\n",
    "                          for k, weights in can.recurrentWeights.iteritems())\n",
    "}))"
   ]
  },
  {
   "cell_type": "markdown",
   "metadata": {},
   "source": [
    "Here are the inputs to each cell. Hover over a cell to see its inhibitory input."
   ]
  },
  {
   "cell_type": "code",
   "execution_count": null,
   "metadata": {},
   "outputs": [],
   "source": [
    "printInputWeights(json.dumps({\n",
    "    \"dimensions\": dimensions,\n",
    "    \"inputMatrices\": dict((k, weights.tolist())\n",
    "                          for k, weights in can.recurrentWeights.iteritems())\n",
    "}))"
   ]
  },
  {
   "cell_type": "markdown",
   "metadata": {},
   "source": [
    "# Lattice orientation"
   ]
  },
  {
   "cell_type": "code",
   "execution_count": null,
   "metadata": {},
   "outputs": [],
   "source": [
    "def orientationExperiment():\n",
    "    dimensions = (32,32)\n",
    "    recording = {\n",
    "        \"dimensions\": dimensions,\n",
    "        \"timesteps\": [],\n",
    "    }\n",
    "\n",
    "    can = ContinuousAttractorModule(dimensions)\n",
    "\n",
    "    for k, rates in can.firingRates.iteritems():\n",
    "        rates[:] = np.random.rand(dimensions[0]*dimensions[1])\n",
    "\n",
    "    for t in xrange(500):\n",
    "        if t % 10 == 0:\n",
    "            recording[\"timesteps\"].append(\n",
    "                dict((k, rates.tolist())\n",
    "                     for k, rates in can.firingRates.iteritems()))\n",
    "\n",
    "        can.step(np.array([0.0, 0.0]))\n",
    "\n",
    "    recording[\"timesteps\"].append(\n",
    "        dict((k, rates.tolist())\n",
    "             for k, rates in can.firingRates.iteritems()))\n",
    "    \n",
    "    return recording"
   ]
  },
  {
   "cell_type": "markdown",
   "metadata": {},
   "source": [
    "Sometimes the lattice is aligned with the x axis, and sometimes with the y axis. (It's random.)"
   ]
  },
  {
   "cell_type": "code",
   "execution_count": null,
   "metadata": {},
   "outputs": [],
   "source": [
    "recording1 = orientationExperiment()"
   ]
  },
  {
   "cell_type": "code",
   "execution_count": null,
   "metadata": {},
   "outputs": [],
   "source": [
    "printSpikeRatesTimeline(json.dumps(recording1))"
   ]
  },
  {
   "cell_type": "code",
   "execution_count": null,
   "metadata": {},
   "outputs": [],
   "source": [
    "def orientationExperiment2():\n",
    "    dimensions = (16,16)\n",
    "    recording = {\n",
    "        \"dimensions\": dimensions,\n",
    "        \"timesteps\": [],\n",
    "    }\n",
    "\n",
    "    can = ContinuousAttractorModule(dimensions)\n",
    "\n",
    "    for k, rates in can.firingRates.iteritems():\n",
    "        rates[:] = np.random.rand(dimensions[0]*dimensions[1])\n",
    "        \n",
    "    for t in xrange(500):\n",
    "\n",
    "        can.step(np.array([0.0, 0.0]))\n",
    "\n",
    "\n",
    "    for t in xrange(1500):\n",
    "        if t % 100 == 0:\n",
    "            recording[\"timesteps\"].append(\n",
    "                dict((k, rates.tolist())\n",
    "                     for k, rates in can.firingRates.iteritems()))\n",
    "\n",
    "        can.step(np.array([1.5, 0.0]))\n",
    "\n",
    "    recording[\"timesteps\"].append(\n",
    "        dict((k, rates.tolist())\n",
    "             for k, rates in can.firingRates.iteritems()))\n",
    "    \n",
    "    return recording"
   ]
  },
  {
   "cell_type": "code",
   "execution_count": null,
   "metadata": {},
   "outputs": [],
   "source": [
    "recording2 = orientationExperiment2()"
   ]
  },
  {
   "cell_type": "code",
   "execution_count": null,
   "metadata": {},
   "outputs": [],
   "source": [
    "printSpikeRatesTimeline(json.dumps(recording2))"
   ]
  }
 ],
 "metadata": {
  "kernel_info": {
   "name": "python2"
  },
  "kernelspec": {
   "display_name": "Python 2",
   "language": "python",
   "name": "python2"
  },
  "language_info": {
   "codemirror_mode": {
    "name": "ipython",
    "version": 2
   },
   "file_extension": ".py",
   "mimetype": "text/x-python",
   "name": "python",
   "nbconvert_exporter": "python",
   "pygments_lexer": "ipython2",
   "version": "2.7.12"
  }
 },
 "nbformat": 4,
 "nbformat_minor": 4
}
