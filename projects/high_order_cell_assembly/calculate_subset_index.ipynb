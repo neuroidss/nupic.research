{
 "cells": [
  {
   "cell_type": "code",
   "execution_count": null,
   "metadata": {
    "collapsed": true
   },
   "outputs": [],
   "source": [
    "# this function code has to be debugged further with matrix dimension matching\n",
    "from scipy import signal\n",
    "\n",
    "def calculate_subset_index(spikeMat, numFramesPerStim):\n",
    "    numNeuron = spikeMat.shape[1]\n",
    "    numFrames = spikeMat.shape[2]\n",
    "    numRpts = spikeMat.shape[0] \n",
    "    \n",
    "    spikeEarly = np.zeros(numNeuron, numFramesPerStim)\n",
    "    \n",
    "    # spikeEarly only count the spikes in the first trial\n",
    "    spikeEarly = spikeMat[0]\n",
    "    \n",
    "    timewindow = 1\n",
    "    \n",
    "    sharedNeuronsAll = np.zeros(4)\n",
    "    numNeuronsLateAll = np.zeros(4)\n",
    "    tt = 0\n",
    "    \n",
    "    for rep in range(17,21): # compute trials from 17 to 20\n",
    "        spikeLate = spikeMat[rep]\n",
    "        spikeLate = signal.convolve2d(spikeLate, np.ones((1, timewindow)),'same')\n",
    "        spikesLate[np.nonzero(spikesLate>0)] = 1\n",
    "        # find all the cells both fire both at the 1st trial and the last trial\n",
    "        sharedNeurons= numpy.multiply(spikeEarly, spikeLate).sum(axis=0)\n",
    "        numNeuronLate = spikeLate.sum(axis=0)\n",
    "        \n",
    "        sharedNeuronsAll[tt] = sharedNeurons.sum()\n",
    "        numNeuronsLateAll[tt] = numNeuronsLate.sum()\n",
    "        tt = tt+1\n",
    "    \n",
    "    # calculate the subsetindex for trials from 17 to 20, the last 4 trials    \n",
    "    subsetIndex = sharedNeuronsAll.sum()/numNeuronsLateAll.sum()\n",
    "    return subsetIndex"
   ]
  }
 ],
 "metadata": {
  "kernelspec": {
   "display_name": "Python 2",
   "language": "python",
   "name": "python2"
  },
  "language_info": {
   "codemirror_mode": {
    "name": "ipython",
    "version": 2
   },
   "file_extension": ".py",
   "mimetype": "text/x-python",
   "name": "python",
   "nbconvert_exporter": "python",
   "pygments_lexer": "ipython2",
   "version": "2.7.10"
  }
 },
 "nbformat": 4,
 "nbformat_minor": 2
}
