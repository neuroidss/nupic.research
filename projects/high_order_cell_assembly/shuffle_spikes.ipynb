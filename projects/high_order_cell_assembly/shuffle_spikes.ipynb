{
 "cells": [
  {
   "cell_type": "code",
   "execution_count": null,
   "metadata": {
    "collapsed": true
   },
   "outputs": [],
   "source": [
    "# this function code has to be debugged further with matrix dimension matching\n",
    "import numpy as np\n",
    "def shuffle_spikes(spikeMat, imgPara):\n",
    "    [numNeuron, NT]= spikeMat.shape\n",
    "    fakeSpikes = np.zeros(numNeuron, NT)\n",
    "    numFramesPerStim = int(round(imgPara['stim_time'] / imgPara['dt']))\n",
    "    \n",
    "    for i in range(numNeuron):\n",
    "        spikeR = spikeTrains[i,:].reshape((numFramesPerStim, imgPara['stimrep']))\n",
    "        shuffleSpikes = np.zeros(numFramesPerStim, imgPara['stimrep'])\n",
    "        for t in range(numFramesPerStim):\n",
    "            # shuffle the spikeMat among 20 trials\n",
    "            shuffleSpikes[t, :] = spikeR[t, np.random.permutation(imgPara['stimrep'])]\n",
    "        # generate the fake-shuffled spikes for each specific neuron\n",
    "        fakeSpikes[i, :] = shuffleSpikes.reshape(( 1, NT))\n",
    "    \n",
    "    return fakeSpikes"
   ]
  }
 ],
 "metadata": {
  "kernelspec": {
   "display_name": "Python 2",
   "language": "python",
   "name": "python2"
  },
  "language_info": {
   "codemirror_mode": {
    "name": "ipython",
    "version": 2
   },
   "file_extension": ".py",
   "mimetype": "text/x-python",
   "name": "python",
   "nbconvert_exporter": "python",
   "pygments_lexer": "ipython2",
   "version": "2.7.10"
  }
 },
 "nbformat": 4,
 "nbformat_minor": 2
}
