{
 "cells": [
  {
   "cell_type": "code",
   "execution_count": null,
   "metadata": {
    "collapsed": true
   },
   "outputs": [],
   "source": [
    "# this function code has to be debugged further with matrix dimension matching\n",
    "\n",
    "import numpy as np\n",
    "\n",
    "def calculate_occurance_time(frequency, numFramesPerStim, spikeMat, binaryWords, numCoactive):\n",
    "    \n",
    "\n",
    "    # check occurence of high-order patterns\n",
    "    idx = np.nonzeros(frequency >=2) # the frequency of spikings\n",
    "    \n",
    "    timeInMovieSTD = np.zeros((idx.shape[0],1))\n",
    "\n",
    "    binEdges = range(-20,21)\n",
    "    timeJitterDistribution = np.zeros((1, len(binEdges)))\n",
    "\n",
    "    trialDist = []\n",
    "\n",
    "    interval = []\n",
    "    timeAll = []\n",
    "\n",
    "    timeInMovieDist = np.zeros(numFramesPerStim, 1)\n",
    "    occurance_time = np.zeros(len(frequency), 1)\n",
    "    \n",
    "    for i in range(len(idx)): # search through the neurons that fired at least twice\n",
    "        # find out the time points when there are at least numCoactive neurons firing together\n",
    "        times = np.nonzeros(spikeMat[binaryWords[i,:],:].sum()>=numCoactive)\n",
    "        \n",
    "        # kl: find out which the exact time frame the cell assembly respond to\n",
    "        timeInMovie = times % numFramesPerStim\n",
    "        # kl: the response at 0 is assumed to be responding to the last movie frame\n",
    "        timeInMovie[timeInMovie==0] = numFramesPerStim\n",
    "        # distribution of the time points when coactive firing\n",
    "        timeInMovieDist[timeInMovie] = timeInMovieDist[timeInMovie]+1\n",
    "        # what trials includes the coactive firings\n",
    "        trial = (times-timeInMovie)/numFramesPerStim + 1\n",
    "        # average the time points of coactive firings for all the frequency\n",
    "        occurance_time[idx[i]] = np.mean(timeInMovie)\n",
    "        # histogram of the coactive firings around average time points within binEdges\n",
    "        counts = np.histogram(timeInMovie-np.mean(timeInMovie), range=binEdges)\n",
    "        # normalize counts\n",
    "        if counts.sum()>1 : \n",
    "            counts = counts/counts.sum()\n",
    "        \n",
    "        # the histogram of distribution of firing time points of coactive assembly around average time points\n",
    "        timeJitterDistribution = timeJitterDistribution + counts\n",
    "        timeInMovieSTD[i] = np.std(timeInMovie)\n",
    "\n",
    "   \n",
    "    # the histogram of distribution of firing time points of coactive assembly around average time points\n",
    "    timeJitterDistribution = timeJitterDistribution/len(idx)\n",
    "\n",
    "\n",
    "\n",
    "\n",
    "\n"
   ]
  }
 ],
 "metadata": {
  "kernelspec": {
   "display_name": "Python 2",
   "language": "python",
   "name": "python2"
  },
  "language_info": {
   "codemirror_mode": {
    "name": "ipython",
    "version": 2
   },
   "file_extension": ".py",
   "mimetype": "text/x-python",
   "name": "python",
   "nbconvert_exporter": "python",
   "pygments_lexer": "ipython2",
   "version": "2.7.10"
  }
 },
 "nbformat": 4,
 "nbformat_minor": 2
}
