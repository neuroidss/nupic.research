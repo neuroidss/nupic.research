{
 "cells": [
  {
   "cell_type": "code",
   "execution_count": 4,
   "metadata": {},
   "outputs": [
    {
     "data": {
      "text/plain": [
       "-0.0"
      ]
     },
     "execution_count": 4,
     "metadata": {},
     "output_type": "execute_result"
    }
   ],
   "source": [
    "round(-0.32)"
   ]
  },
  {
   "cell_type": "code",
   "execution_count": 7,
   "metadata": {},
   "outputs": [
    {
     "name": "stdout",
     "output_type": "stream",
     "text": [
      "[0, 1, 2, 3, 4]\n"
     ]
    }
   ],
   "source": [
    "# spikeMat = []\n",
    "# print spikeMat\n",
    "print range(5)"
   ]
  },
  {
   "cell_type": "code",
   "execution_count": 24,
   "metadata": {
    "collapsed": true
   },
   "outputs": [],
   "source": [
    "import matplotlib.pyplot as plt\n",
    "import numpy as np"
   ]
  },
  {
   "cell_type": "code",
   "execution_count": 26,
   "metadata": {
    "collapsed": true
   },
   "outputs": [],
   "source": [
    "def get_response_mat(spiketrain, imgPara, stimType, goodCells, plotRaster):\n",
    "    \n",
    "    numNeuron = len(goodCells) # the number of neurons\n",
    "    print numNeuron\n",
    "    \n",
    "    # imgPara.stim_time = 32s, imgPara.dt = 0.075103, \n",
    "    # numFramesPerStim is the number of the frames within 32s movie stimulus\n",
    "    \n",
    "    numFramesPerStim = int(round(imgPara['stim_time'] / imgPara['dt']))\n",
    "    # print numFramesPerStim\n",
    "    spikeMat = []\n",
    "    ## generate the spike timing for all the neurons through all trials\n",
    "    for rep in range(imgPara['stimrep']):    \n",
    "        spikesCurrentTrial = np.zeros((numNeuron, numFramesPerStim))\n",
    "        spikesRaster = []\n",
    "        cellI = 0\n",
    "        for i in range(len(goodCells)):\n",
    "            # spikesI: spiking timing of a specific neuron at a specific trial\n",
    "            # print i\n",
    "            spikesI = spiketrain[0,i][0][rep,stimType]\n",
    "            # print spikesI\n",
    "            spikesI = np.round(spikesI[np.nonzero(spikesI<=numFramesPerStim)])\n",
    "            #print spikesI\n",
    "            spikesI = spikesI[np.nonzero(spikesI>0)];\n",
    "            spikesI = spikesI.astype(int)\n",
    "            \n",
    "            spikesI = spikesI - 1\n",
    "            # print spikesI\n",
    "            # along the 426 frames, spike timings was labeled\n",
    "            spikesCurrentTrial[cellI,spikesI] = 1\n",
    "            cellI  = cellI +1;\n",
    "            spikesRaster.append(spikesI*imgPara['dt'] -1)\n",
    "        \n",
    "\n",
    "        # return spikeMat as the spiking time for all neurons\n",
    "        spikeMat.append(spikesCurrentTrial)  \n",
    "    \n",
    "    # change spikeMat to be numpy array\n",
    "    spikeMat = np.array(spikeMat)   \n",
    "    print spikeMat.shape\n",
    "    return spikeMat\n",
    "            "
   ]
  },
  {
   "cell_type": "code",
   "execution_count": 14,
   "metadata": {},
   "outputs": [
    {
     "data": {
      "text/plain": [
       "array([[ 0.,  0.,  0.],\n",
       "       [ 1.,  0.,  1.]])"
      ]
     },
     "execution_count": 14,
     "metadata": {},
     "output_type": "execute_result"
    }
   ],
   "source": [
    "a=np.zeros((2,3))\n",
    "b=[0,2]\n",
    "a[1,b]=1\n",
    "a"
   ]
  },
  {
   "cell_type": "code",
   "execution_count": 23,
   "metadata": {},
   "outputs": [
    {
     "data": {
      "text/plain": [
       "array([[0, 2]])"
      ]
     },
     "execution_count": 23,
     "metadata": {},
     "output_type": "execute_result"
    }
   ],
   "source": [
    "a=[]\n",
    "a.append(b)\n",
    "a = np.array(a)\n",
    "a"
   ]
  },
  {
   "cell_type": "code",
   "execution_count": null,
   "metadata": {
    "collapsed": true
   },
   "outputs": [],
   "source": []
  }
 ],
 "metadata": {
  "kernelspec": {
   "display_name": "Python 2",
   "language": "python",
   "name": "python2"
  },
  "language_info": {
   "codemirror_mode": {
    "name": "ipython",
    "version": 2
   },
   "file_extension": ".py",
   "mimetype": "text/x-python",
   "name": "python",
   "nbconvert_exporter": "python",
   "pygments_lexer": "ipython2",
   "version": "2.7.10"
  }
 },
 "nbformat": 4,
 "nbformat_minor": 2
}
