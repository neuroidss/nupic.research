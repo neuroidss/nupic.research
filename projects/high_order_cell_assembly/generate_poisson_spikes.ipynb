{
 "cells": [
  {
   "cell_type": "code",
   "execution_count": null,
   "metadata": {
    "collapsed": true
   },
   "outputs": [],
   "source": [
    "# this function code has to be debugged further with matrix dimension matching\n",
    "import numpy as np\n",
    "def generate_poisson_spikes(spikeMat, imgPara):\n",
    "    meanFiringRate = np.mean(spikeMat, 1)\n",
    "    [numNeuron, NT]= spikeMat.shape # NT is number of frames through 20 trials\n",
    "    poissSpikes = np.zeros(numNeuron, NT)\n",
    "    for i in range(numNeuron)\n",
    "        poissSpikes[i,:] = np.random.poisson(meanFiringRate[i], (1, NT))\n",
    "    return poissSpikes"
   ]
  }
 ],
 "metadata": {
  "kernelspec": {
   "display_name": "Python 2",
   "language": "python",
   "name": "python2"
  },
  "language_info": {
   "codemirror_mode": {
    "name": "ipython",
    "version": 2
   },
   "file_extension": ".py",
   "mimetype": "text/x-python",
   "name": "python",
   "nbconvert_exporter": "python",
   "pygments_lexer": "ipython2",
   "version": "2.7.10"
  }
 },
 "nbformat": 4,
 "nbformat_minor": 2
}
