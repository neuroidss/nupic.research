{
 "cells": [
  {
   "cell_type": "code",
   "execution_count": 1,
   "metadata": {
    "collapsed": true
   },
   "outputs": [],
   "source": [
    "import numpy as np"
   ]
  },
  {
   "cell_type": "code",
   "execution_count": 2,
   "metadata": {
    "collapsed": true
   },
   "outputs": [],
   "source": [
    "import scipy.io as sio \n"
   ]
  },
  {
   "cell_type": "code",
   "execution_count": 3,
   "metadata": {},
   "outputs": [
    {
     "name": "stderr",
     "output_type": "stream",
     "text": [
      "IOPub data rate exceeded.\n",
      "The notebook server will temporarily stop sending output\n",
      "to the client in order to avoid crashing it.\n",
      "To change this limit, set the config variable\n",
      "`--NotebookApp.iopub_data_rate_limit`.\n"
     ]
    }
   ],
   "source": [
    "data = sio.loadmat(\"./data/2016-10-26_1/Combo3_V1.mat\")\n",
    "data['data']"
   ]
  },
  {
   "cell_type": "code",
   "execution_count": null,
   "metadata": {
    "collapsed": true
   },
   "outputs": [],
   "source": [
    "\"\"\"\n",
    "data structure example\n",
    "\"\"\"\n",
    "data_c = data['data']\n",
    "# ROI data\n",
    "coordinates = data_c[0][0][0]\n",
    "# imgPara\n",
    "imgPara = data_c[0][0][1]\n",
    "stim_type = imgPara['stim_type']\n",
    "stim_time = imgPara['stim_time']\n",
    "updatefr = imgPara['updatefr']\n",
    "intertime = imgPara['intertime']\n",
    "stimrep = imgPara['stimrep']\n",
    "print stimrep\n",
    "dt = imgPara['dt']\n",
    "F = imgPara['F']\n",
    "F_gray = imgPara['F_gray']\n",
    "# spiketrain\n",
    "spiketrain = data_c[0][0][2]\n",
    "# number of neurons\n",
    "spiketrain.shape[1]\n",
    "# the spiketrain _st of cell 80\n",
    "spiketrain_st = spiketrain[0,79][0] # shape=(20,3)\n",
    "spiketrain_st_gray = spiketrain[0,79][1] # shape=(20,3)\n",
    "# the spiketrain_st of cell 80, trial 13, stim_type = 2\n",
    "spiketrain_st_trial_stimType = spiketrain[0,79][0][12,1]\n",
    "# the specific spike timing at [0,i]\n",
    "# print spiketrain_st_trial_stimType[0,1]"
   ]
  },
  {
   "cell_type": "code",
   "execution_count": null,
   "metadata": {
    "collapsed": true
   },
   "outputs": [],
   "source": [
    "print spiketrain[0,2][0][0,0]\n"
   ]
  },
  {
   "cell_type": "code",
   "execution_count": 6,
   "metadata": {
    "collapsed": true
   },
   "outputs": [],
   "source": [
    "def get_response_mat(spiketrain, imgPara, stimType, goodCells, plotRaster):\n",
    "    \n",
    "    numNeuron = len(goodCells) # the number of neurons\n",
    "    print numNeuron\n",
    "    \n",
    "    # imgPara.stim_time = 32s, imgPara.dt = 0.075103, \n",
    "    # numFramesPerStim is the number of the frames within 32s movie stimulus\n",
    "    \n",
    "    numFramesPerStim = int(round(imgPara['stim_time'] / imgPara['dt']))\n",
    "    # print numFramesPerStim\n",
    "    spikeMat = []\n",
    "    ## generate the spike timing for all the neurons through all trials\n",
    "    for rep in range(imgPara['stimrep']):    \n",
    "        spikesCurrentTrial = np.zeros((numNeuron, numFramesPerStim))\n",
    "        spikesRaster = []\n",
    "        cellI = 0\n",
    "        for i in range(len(goodCells)):\n",
    "            # spikesI: spiking timing of a specific neuron at a specific trial\n",
    "            # print i\n",
    "            spikesI = spiketrain[0,i][0][rep,stimType]\n",
    "            # print spikesI\n",
    "            spikesI = np.round(spikesI[np.nonzero(spikesI<=numFramesPerStim)])\n",
    "            #print spikesI\n",
    "            spikesI = spikesI[np.nonzero(spikesI>0)];\n",
    "            spikesI = spikesI.astype(int)\n",
    "            \n",
    "            spikesI = spikesI - 1\n",
    "            # print spikesI\n",
    "            # along the 426 frames, spike timings was labeled\n",
    "            spikesCurrentTrial[cellI,spikesI] = 1\n",
    "            cellI  = cellI +1;\n",
    "            spikesRaster.append(spikesI*imgPara['dt'] -1)\n",
    "        \n",
    "\n",
    "        # return spikeMat as the spiking time for all neurons\n",
    "        spikeMat.append(spikesCurrentTrial)  \n",
    "    \n",
    "    # change spikeMat to be numpy array\n",
    "    spikeMat = np.array(spikeMat)   \n",
    "    print spikeMat.shape\n",
    "    return spikeMat\n",
    "            "
   ]
  },
  {
   "cell_type": "code",
   "execution_count": 7,
   "metadata": {
    "collapsed": true
   },
   "outputs": [],
   "source": [
    "def calculate_sparsity_over_trials(spikeMat, imgPara):\n",
    "    print spikeMat.shape\n",
    "    stimrep = int(imgPara['stimrep'])\n",
    "    sparsity = np.zeros((stimrep,1))\n",
    "    numFramesPerStim = int(round(imgPara['stim_time']/imgPara['dt']))\n",
    "    # the returned sparsity is everaged for all the neurons' \n",
    "    # firings within each specific trial\n",
    "    for rep in range(stimrep):\n",
    "        numFramesArray = np.array(range(numFramesPerStim))\n",
    "        spikesCurrentTrial = spikeMat[rep]  \n",
    "        sparsity[rep] = np.mean(spikesCurrentTrial) # average by columns and by rows    \n",
    "    return sparsity"
   ]
  },
  {
   "cell_type": "code",
   "execution_count": 8,
   "metadata": {
    "collapsed": true
   },
   "outputs": [],
   "source": [
    "dataFolderList = ['data/2016-10-26_1','data/2016-07-27_2','data/2016-06-21_1','data/2016-07-07_1'\n",
    "            ,'data/2016-07-27_1','data/2016-08-09_1','data/2016-08-16_1']"
   ]
  },
  {
   "cell_type": "code",
   "execution_count": 9,
   "metadata": {},
   "outputs": [
    {
     "name": "stdout",
     "output_type": "stream",
     "text": [
      "./data/2016-10-26_1/Combo3_V1.mat\n",
      "./data/2016-07-27_2/Combo3_V1.mat\n",
      "./data/2016-06-21_1/Combo3_V1.mat\n",
      "./data/2016-07-07_1/Combo3_V1.mat\n",
      "./data/2016-07-27_1/Combo3_V1.mat\n",
      "./data/2016-08-09_1/Combo3_V1.mat\n",
      "./data/2016-08-16_1/Combo3_V1.mat\n"
     ]
    }
   ],
   "source": [
    "area = 'V1'\n",
    "for exp in range(len(dataFolderList)):\n",
    "    print './'+dataFolderList[exp]+'/Combo3_'+area+'.mat'"
   ]
  },
  {
   "cell_type": "code",
   "execution_count": 10,
   "metadata": {
    "collapsed": true
   },
   "outputs": [],
   "source": [
    "# import get_response_mat\n",
    "# import calculate_sparsity_over_trials\n",
    "\n",
    "numActiveNeuron = 0;\n",
    "numTotalNeuron = 0;\n",
    "\n",
    "area = 'V1'; # area should be V1 or AL"
   ]
  },
  {
   "cell_type": "code",
   "execution_count": 12,
   "metadata": {},
   "outputs": [
    {
     "name": "stdout",
     "output_type": "stream",
     "text": [
      "[[ (array([[3]], dtype=uint8), array([[32]], dtype=uint8), array([[ 0.01666667]]), array([[8]], dtype=uint8), array([[20]], dtype=uint8), array([[ 0.07508917]]), array([[426, 426, 426]], dtype=uint16), array([[106]], dtype=uint8))]]\n",
      "Number of cells: 352\n",
      "(214,)\n",
      "214\n",
      "(20, 214, 426)\n",
      "(20, 214, 426)\n"
     ]
    }
   ],
   "source": [
    "import numpy as np\n",
    "import scipy.io as sio \n",
    "import matplotlib.pyplot as plt\n",
    "import get_response_mat\n",
    "import calculate_sparsity_over_trials\n",
    "\n",
    "dataFolderList = ['data/2016-10-26_1','data/2016-07-27_2','data/2016-06-21_1','data/2016-07-07_1'\n",
    "            ,'data/2016-07-27_1','data/2016-08-09_1','data/2016-08-16_1']\n",
    "numActiveNeuron = 0;\n",
    "numTotalNeuron = 0;\n",
    "\n",
    "area = 'V1'; # area should be V1 or AL\n",
    "\n",
    "for stimType in range(3):\n",
    "    for exp in range(len(dataFolderList)):\n",
    "    #for exp in range(1):\n",
    "        data=sio.loadmat('./'+dataFolderList[exp]+'/Combo3_'+area+'.mat')\n",
    "        data_c = data['data']\n",
    "        # imgPara\n",
    "        imgPara = data_c[0][0][1]\n",
    "        print imgPara\n",
    "        stim_type = imgPara['stim_type']\n",
    "        stim_time = imgPara['stim_time']\n",
    "        updatefr = imgPara['updatefr']\n",
    "        intertime = imgPara['intertime']\n",
    "        stimrep = imgPara['stimrep']\n",
    "        dt = imgPara['dt']\n",
    "        F = imgPara['F']\n",
    "        F_gray = imgPara['F_gray']\n",
    "        # spiketrain\n",
    "        spiketrain = data_c[0][0][2]\n",
    "        # number of neurons\n",
    "        numNeuron = spiketrain.shape[1]\n",
    "        numFramesPerStim = int(round(stim_time / dt))\n",
    "        \n",
    "        gratingResponse = [] # never be used\n",
    "        spikesPerNeuron = np.zeros((numNeuron,3))\n",
    "        \n",
    "        for i in range(numNeuron):\n",
    "            for j in range(stim_type):\n",
    "                numSpike = 0\n",
    "                for rep in range(stimrep):\n",
    "                    spikesI = spiketrain[0,i][0][rep,j]\n",
    "                    numSpike = numSpike + len(spikesI[0]);\n",
    "               \n",
    "                spikesPerNeuron[i, j] = numSpike;\n",
    "            \n",
    "        #print spikesPerNeuron\n",
    "        print \"Number of cells: %d\" % numNeuron\n",
    "        # Population Response to Natural Stimuli\n",
    "         # goodCells = range(numNeuron); # choose all the cells to be goodCells\n",
    "        goodCells = np.nonzero(spikesPerNeuron[:,stimType]>3)\n",
    "        print goodCells[0].shape\n",
    "        spikeMat = get_response_mat(spiketrain, imgPara, stimType,goodCells[0], 0);\n",
    "        \n",
    "        # show sparsity over trials\n",
    "        sparsity = calculate_sparsity_over_trials(spikeMat, imgPara)\n",
    "        numActiveNeuron = numActiveNeuron + sparsity * len(goodCells) * numFramesPerStim\n",
    "        numTotalNeuron = numTotalNeuron + len(goodCells)\n",
    "        \"\"\"\n",
    "        # spiketrain data structure example\n",
    "        # the spiketrain _st of cell 78\n",
    "        spiketrain_st = spiketrain[0,79][0] # shape=(20,3)\n",
    "        spiketrain_st_gray = spiketrain[0,79][1] # shape=(20,3)\n",
    "        # the spiketrain_st of cell 79, trial 13, stim_type = 2\n",
    "        spiketrain_st_trial_stimType = spiketrain[0,79][0][12,1]\n",
    "        # the specific spike timing at [0,i]\n",
    "        print spiketrain_st_trial_stimType[0,1]\n",
    "        \"\"\"\n",
    "        plt.plot(sparsity,'k')\n",
    "        plt.xlabel('trial #')\n",
    "        plt.ylabel('sparseness')\n",
    "        plt.show()\n",
    "\n",
    "#     \n",
    "#     h=figure(4);clf;\n",
    "#     subplot(2,2,1);\n",
    "#     plot(numActiveNeuron/numTotalNeuron/numFramesPerStim, '-o')\n",
    "#     title(['Area ' area ' Stimulus ' num2str(stimType) ' n=' num2str(numTotalNeuron)] );\n",
    "#     xlabel('Trial #');\n",
    "#     ylabel('Sparseness');\n",
    "#     print(h,'-dpdf', ['figures/sparsity/sparseness_over_time_stim_' num2str(stimType) '_area_' area  '.pdf']);\n"
   ]
  },
  {
   "cell_type": "code",
   "execution_count": null,
   "metadata": {
    "collapsed": true
   },
   "outputs": [],
   "source": [
    "a = np.array([[1,2,3],[2,3,4]])\n",
    "b=[]\n",
    "b.append(a)\n",
    "b.append(a)\n",
    "# print b[1]\n",
    "a = np.array([1,2,3])\n",
    "a=np.array([])\n",
    "\n",
    "print a-1"
   ]
  },
  {
   "cell_type": "code",
   "execution_count": null,
   "metadata": {
    "collapsed": true
   },
   "outputs": [],
   "source": [
    "a = np.zeros((2,3))\n",
    "a[1, [2]]=1\n",
    "b=[[2.0]]\n",
    "b=np.array(b)\n",
    "b=b.astype(int)\n",
    "a[1,b]=1\n",
    "print b"
   ]
  },
  {
   "cell_type": "code",
   "execution_count": null,
   "metadata": {
    "collapsed": true
   },
   "outputs": [],
   "source": []
  }
 ],
 "metadata": {
  "kernelspec": {
   "display_name": "Python 2",
   "language": "python",
   "name": "python2"
  },
  "language_info": {
   "codemirror_mode": {
    "name": "ipython",
    "version": 2
   },
   "file_extension": ".py",
   "mimetype": "text/x-python",
   "name": "python",
   "nbconvert_exporter": "python",
   "pygments_lexer": "ipython2",
   "version": "2.7.10"
  }
 },
 "nbformat": 4,
 "nbformat_minor": 2
}
