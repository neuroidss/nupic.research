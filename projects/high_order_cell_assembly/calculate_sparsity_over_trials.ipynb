{
 "cells": [
  {
   "cell_type": "code",
   "execution_count": 11,
   "metadata": {
    "collapsed": true
   },
   "outputs": [],
   "source": [
    "# %!/usr/bin/env python\n",
    "# % ----------------------------------------------------------------------\n",
    "# % Numenta Platform for Intelligent Computing (NuPIC)\n",
    "# % Copyright (C) 2016, Numenta, Inc.  Unless you have an agreement\n",
    "# % with Numenta, Inc., for a separate license for this software code, the\n",
    "# % following terms and conditions apply:\n",
    "# %\n",
    "# % This program is free software: you can redistribute it and/or modify\n",
    "# % it under the terms of the GNU Affero Public License version 3 as\n",
    "# % published by the Free Software Foundation.\n",
    "# %\n",
    "# % This program is distributed in the hope that it will be useful,\n",
    "# % but WITHOUT ANY WARRANTY; without even the implied warranty of\n",
    "# % MERCHANTABILITY or FITNESS FOR A PARTICULAR PURPOSE.\n",
    "# % See the GNU Affero Public License for more details.\n",
    "# %\n",
    "# % You should have received a copy of the GNU Affero Public License\n",
    "# % along with this program.  If not, see http://www.gnu.org/licenses.\n",
    "# %\n",
    "# % http://numenta.org/licenses/\n",
    "# % ----------------------------------------------------------------------\n",
    "import numpy as np\n",
    "\n",
    "def calculate_sparsity_over_trials(spikeMat, imgPara):\n",
    "    print spikeMat.shape\n",
    "    stimrep = int(imgPara['stimrep'])\n",
    "    sparsity = np.zeros((stimrep,1))\n",
    "    numFramesPerStim = int(round(imgPara['stim_time']/imgPara['dt']))\n",
    "    # the returned sparsity is everaged for all the neurons' \n",
    "    # firings within each specific trial\n",
    "    for rep in range(stimrep):\n",
    "        numFramesArray = np.array(range(numFramesPerStim))\n",
    "        spikesCurrentTrial = spikeMat[rep]  \n",
    "        sparsity[rep] = np.mean(spikesCurrentTrial) # average by columns and by rows    \n",
    "    return sparsity"
   ]
  }
 ],
 "metadata": {
  "kernelspec": {
   "display_name": "Python 2",
   "language": "python",
   "name": "python2"
  },
  "language_info": {
   "codemirror_mode": {
    "name": "ipython",
    "version": 2
   },
   "file_extension": ".py",
   "mimetype": "text/x-python",
   "name": "python",
   "nbconvert_exporter": "python",
   "pygments_lexer": "ipython2",
   "version": "2.7.10"
  }
 },
 "nbformat": 4,
 "nbformat_minor": 2
}
