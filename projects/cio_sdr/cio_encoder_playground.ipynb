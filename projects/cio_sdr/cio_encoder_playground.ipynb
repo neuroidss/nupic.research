{
 "cells": [
  {
   "cell_type": "code",
   "execution_count": 1,
   "metadata": {
    "collapsed": true
   },
   "outputs": [],
   "source": [
    "from htmresearch.encoders.cio_encoder import CioEncoder"
   ]
  },
  {
   "cell_type": "code",
   "execution_count": 2,
   "metadata": {
    "collapsed": true
   },
   "outputs": [],
   "source": [
    "%matplotlib inline"
   ]
  },
  {
   "cell_type": "code",
   "execution_count": 3,
   "metadata": {
    "collapsed": true
   },
   "outputs": [],
   "source": [
    "import matplotlib.pyplot as plt"
   ]
  },
  {
   "cell_type": "code",
   "execution_count": 4,
   "metadata": {
    "collapsed": true
   },
   "outputs": [],
   "source": [
    "import matplotlib.image as mpimg"
   ]
  },
  {
   "cell_type": "code",
   "execution_count": 5,
   "metadata": {
    "collapsed": true
   },
   "outputs": [],
   "source": [
    "import numpy"
   ]
  },
  {
   "cell_type": "code",
   "execution_count": 6,
   "metadata": {
    "collapsed": true
   },
   "outputs": [],
   "source": [
    "encoder = CioEncoder(retina=\"en_synonymous\")"
   ]
  },
  {
   "cell_type": "code",
   "execution_count": 7,
   "metadata": {
    "collapsed": true
   },
   "outputs": [],
   "source": [
    "def plotText(text):\n",
    "    fingerprint = encoder.encode(text)\n",
    "    img = numpy.zeros(128*128)\n",
    "    img[list(fingerprint['fingerprint']['positions'])]= 1\n",
    "    img = img.reshape((128,128))\n",
    "    plt.imshow(img, cmap=\"spectral\")\n",
    "    print \"Sparsity=\",fingerprint['sparsity'],\"bits=\",len(fingerprint['fingerprint']['positions'])"
   ]
  },
  {
   "cell_type": "code",
   "execution_count": 8,
   "metadata": {
    "collapsed": true
   },
   "outputs": [],
   "source": [
    "def compareText(text1, text2):\n",
    "    f1 = encoder.encode(text1)['fingerprint']['positions']\n",
    "    f2 = encoder.encode(text2)['fingerprint']['positions']\n",
    "    print \"Bits for '\"+text1+\"' = \",len(f1)\n",
    "    print \"Bits for '\"+text2+\"' = \",len(f2)\n",
    "    overlap = len(set(f1) & set(f2))\n",
    "    print \"Overlap=\",overlap\n",
    "    return overlap"
   ]
  },
  {
   "cell_type": "code",
   "execution_count": 9,
   "metadata": {
    "collapsed": false
   },
   "outputs": [
    {
     "name": "stdout",
     "output_type": "stream",
     "text": [
      "Sparsity= 0.0362548828125 bits= 594\n"
     ]
    },
    {
     "data": {
      "image/png": "[encoded data removed]",
      "text/plain": [
       "<matplotlib.figure.Figure at 0x10ad9b050>"
      ]
     },
     "metadata": {},
     "output_type": "display_data"
    }
   ],
   "source": [
    "plotText(\"James quit smoking but it was not an easy decision.\")"
   ]
  },
  {
   "cell_type": "code",
   "execution_count": 10,
   "metadata": {
    "collapsed": false
   },
   "outputs": [
    {
     "name": "stdout",
     "output_type": "stream",
     "text": [
      "Bits for 'James quit smoking but it was not an easy decision.' =  594\n",
      "Bits for 'James stopped smoking but it was not easy decision' =  594\n",
      "Overlap= 594\n"
     ]
    },
    {
     "data": {
      "text/plain": [
       "594"
      ]
     },
     "execution_count": 10,
     "metadata": {},
     "output_type": "execute_result"
    }
   ],
   "source": [
    "compareText(\"James quit smoking but it was not an easy decision.\", \n",
    "            \"James stopped smoking but it was not easy decision\")"
   ]
  },
  {
   "cell_type": "code",
   "execution_count": 11,
   "metadata": {
    "collapsed": false
   },
   "outputs": [
    {
     "name": "stdout",
     "output_type": "stream",
     "text": [
      "Bits for 'James quit smoking but it was not an easy decision.' =  594\n",
      "Bits for 'James stopped smoking but it was not a simple decision' =  602\n",
      "Overlap= 501\n"
     ]
    },
    {
     "data": {
      "text/plain": [
       "501"
      ]
     },
     "execution_count": 11,
     "metadata": {},
     "output_type": "execute_result"
    }
   ],
   "source": [
    "compareText(\"James quit smoking but it was not an easy decision.\", \n",
    "            \"James stopped smoking but it was not a simple decision\")"
   ]
  },
  {
   "cell_type": "code",
   "execution_count": 12,
   "metadata": {
    "collapsed": false
   },
   "outputs": [
    {
     "name": "stdout",
     "output_type": "stream",
     "text": [
      "Bits for 'James quit smoking but it was not an easy decision.' =  594\n",
      "Bits for 'James stopped smoking but it was not a simple choice' =  570\n",
      "Overlap= 392\n"
     ]
    },
    {
     "data": {
      "text/plain": [
       "392"
      ]
     },
     "execution_count": 12,
     "metadata": {},
     "output_type": "execute_result"
    }
   ],
   "source": [
    "compareText(\"James quit smoking but it was not an easy decision.\", \n",
    "            \"James stopped smoking but it was not a simple choice\")"
   ]
  },
  {
   "cell_type": "code",
   "execution_count": 13,
   "metadata": {
    "collapsed": false
   },
   "outputs": [
    {
     "name": "stdout",
     "output_type": "stream",
     "text": [
      "Bits for 'James quit smoking but it was not an easy decision.' =  594\n",
      "Bits for 'Sue stopped smoking but it was not a simple choice' =  559\n",
      "Overlap= 294\n"
     ]
    },
    {
     "data": {
      "text/plain": [
       "294"
      ]
     },
     "execution_count": 13,
     "metadata": {},
     "output_type": "execute_result"
    }
   ],
   "source": [
    "compareText(\"James quit smoking but it was not an easy decision.\", \n",
    "            \"Sue stopped smoking but it was not a simple choice\")"
   ]
  },
  {
   "cell_type": "code",
   "execution_count": 14,
   "metadata": {
    "collapsed": false
   },
   "outputs": [
    {
     "name": "stdout",
     "output_type": "stream",
     "text": [
      "Bits for 'James quit smoking but it was not an easy decision.' =  594\n",
      "Bits for 'Sue stopped cigarettes but it was not a simple choice' =  693\n",
      "Overlap= 237\n"
     ]
    },
    {
     "data": {
      "text/plain": [
       "237"
      ]
     },
     "execution_count": 14,
     "metadata": {},
     "output_type": "execute_result"
    }
   ],
   "source": [
    "compareText(\"James quit smoking but it was not an easy decision.\", \n",
    "            \"Sue stopped cigarettes but it was not a simple choice\")"
   ]
  },
  {
   "cell_type": "code",
   "execution_count": 15,
   "metadata": {
    "collapsed": false
   },
   "outputs": [
    {
     "name": "stdout",
     "output_type": "stream",
     "text": [
      "Bits for 'James quit smoking but it was not an easy decision.' =  594\n",
      "Bits for 'We start with ten base sentences each with ten words' =  298\n",
      "Overlap= 65\n"
     ]
    },
    {
     "data": {
      "text/plain": [
       "65"
      ]
     },
     "execution_count": 15,
     "metadata": {},
     "output_type": "execute_result"
    }
   ],
   "source": [
    "compareText(\"James quit smoking but it was not an easy decision.\", \n",
    "            \"We start with ten base sentences each with ten words\")"
   ]
  },
  {
   "cell_type": "code",
   "execution_count": 16,
   "metadata": {
    "collapsed": false,
    "scrolled": true
   },
   "outputs": [
    {
     "name": "stdout",
     "output_type": "stream",
     "text": [
      "Bits for 'James quit smoking but it was not an easy decision.' =  594\n",
      "Bits for 'Sue keeps smoking a lot of cigarettes' =  549\n",
      "Overlap= 263\n"
     ]
    },
    {
     "data": {
      "text/plain": [
       "263"
      ]
     },
     "execution_count": 16,
     "metadata": {},
     "output_type": "execute_result"
    }
   ],
   "source": [
    "compareText(\"James quit smoking but it was not an easy decision.\", \n",
    "            \"Sue keeps smoking a lot of cigarettes\")"
   ]
  },
  {
   "cell_type": "code",
   "execution_count": 17,
   "metadata": {
    "collapsed": false
   },
   "outputs": [
    {
     "name": "stdout",
     "output_type": "stream",
     "text": [
      "Sparsity= 0.063720703125 bits= 1044\n"
     ]
    },
    {
     "data": {
      "image/png": "[encoded data removed]",
      "text/plain": [
       "<matplotlib.figure.Figure at 0x10b08a210>"
      ]
     },
     "metadata": {},
     "output_type": "display_data"
    }
   ],
   "source": [
    "plotText(\"the ski lift of projectors requires random resorts vacation chairs kids\")"
   ]
  },
  {
   "cell_type": "code",
   "execution_count": 18,
   "metadata": {
    "collapsed": false
   },
   "outputs": [
    {
     "name": "stdout",
     "output_type": "stream",
     "text": [
      "Sparsity= 0.010009765625 bits= 164\n"
     ]
    },
    {
     "data": {
      "image/png": "[encoded data removed]",
      "text/plain": [
       "<matplotlib.figure.Figure at 0x10b233e50>"
      ]
     },
     "metadata": {},
     "output_type": "display_data"
    }
   ],
   "source": [
    "plotText(\"biology\")"
   ]
  },
  {
   "cell_type": "code",
   "execution_count": 19,
   "metadata": {
    "collapsed": false
   },
   "outputs": [
    {
     "name": "stdout",
     "output_type": "stream",
     "text": [
      "Bits for 'mountains vacation' =  318\n",
      "Bits for 'skiing' =  164\n",
      "Overlap= 24\n"
     ]
    },
    {
     "data": {
      "text/plain": [
       "24"
      ]
     },
     "execution_count": 19,
     "metadata": {},
     "output_type": "execute_result"
    }
   ],
   "source": [
    "compareText(\"mountains vacation\",\"skiing\")"
   ]
  },
  {
   "cell_type": "code",
   "execution_count": 20,
   "metadata": {
    "collapsed": false
   },
   "outputs": [
    {
     "name": "stdout",
     "output_type": "stream",
     "text": [
      "Bits for 'James loved to puff on his cigarettes. However he recently read a bunch of articles describing their unhealthy effects. James decided to quit cigarettes completely. It clearly was not an easy decision, but he felt it was the right one.' =  1197\n",
      "Bits for 'The tobacco industry has long tried to hide the effects of second hand smoke. However there is now a preponderance of evidence demonstrating its ill effects. Second hand smoke is clearly dangerous to anyone who breathes it in.' =  1259\n",
      "Overlap= 495\n"
     ]
    },
    {
     "data": {
      "text/plain": [
       "495"
      ]
     },
     "execution_count": 20,
     "metadata": {},
     "output_type": "execute_result"
    }
   ],
   "source": [
    "compareText(\"James loved to puff on his cigarettes. However he recently read a bunch of articles describing their unhealthy effects. James decided to quit cigarettes completely. It clearly was not an easy decision, but he felt it was the right one.\", \n",
    "           \"The tobacco industry has long tried to hide the effects of second hand smoke. However there is now a preponderance of evidence demonstrating its ill effects. Second hand smoke is clearly dangerous to anyone who breathes it in.\")"
   ]
  },
  {
   "cell_type": "code",
   "execution_count": 21,
   "metadata": {
    "collapsed": false
   },
   "outputs": [
    {
     "name": "stdout",
     "output_type": "stream",
     "text": [
      "Bits for 'James loved to puff on his cigarettes. However he recently read a bunch of articles describing their unhealthy effects. James decided to quit cigarettes completely. It clearly was not an easy decision, but he felt it was the right one.' =  1197\n",
      "Bits for 'the dangers of cigars. a cigar is basically a cancer stick. Cigars are known to contain over 7000 chemicals, at least 250 of which are directly tied to lung cancer.' =  985\n",
      "Overlap= 337\n"
     ]
    },
    {
     "data": {
      "text/plain": [
       "337"
      ]
     },
     "execution_count": 21,
     "metadata": {},
     "output_type": "execute_result"
    }
   ],
   "source": [
    "compareText(\"James loved to puff on his cigarettes. However he recently read a bunch of articles describing their unhealthy effects. James decided to quit cigarettes completely. It clearly was not an easy decision, but he felt it was the right one.\", \n",
    "           \"the dangers of cigars. a cigar is basically a cancer stick. Cigars are known to contain over 7000 chemicals, at least 250 of which are directly tied to lung cancer.\")"
   ]
  },
  {
   "cell_type": "code",
   "execution_count": 22,
   "metadata": {
    "collapsed": false
   },
   "outputs": [
    {
     "name": "stdout",
     "output_type": "stream",
     "text": [
      "Bits for 'James loved to puff on his cigarettes. However he recently read a bunch of articles describing their unhealthy effects. James decided to quit cigarettes completely. It clearly was not an easy decision, but he felt it was the right one.' =  1197\n",
      "Bits for 'people with health problems are turning to jogging as a solution. It raises heart rate and causes a rush of endorphins to the body. It also makes people more resilient to disease. It's the ultimate preventative medicine for health issues.' =  1362\n",
      "Overlap= 392\n"
     ]
    },
    {
     "data": {
      "text/plain": [
       "392"
      ]
     },
     "execution_count": 22,
     "metadata": {},
     "output_type": "execute_result"
    }
   ],
   "source": [
    "compareText(\"James loved to puff on his cigarettes. However he recently read a bunch of articles describing their unhealthy effects. James decided to quit cigarettes completely. It clearly was not an easy decision, but he felt it was the right one.\", \n",
    "           \"people with health problems are turning to jogging as a solution. It raises heart rate and causes a rush of endorphins to the body. It also makes people more resilient to disease. It's the ultimate preventative medicine for health issues.\")"
   ]
  },
  {
   "cell_type": "code",
   "execution_count": 23,
   "metadata": {
    "collapsed": false
   },
   "outputs": [
    {
     "name": "stdout",
     "output_type": "stream",
     "text": [
      "Bits for 'James' =  164\n",
      "Bits for 'tobacco' =  164\n",
      "Overlap= 10\n"
     ]
    },
    {
     "data": {
      "text/plain": [
       "10"
      ]
     },
     "execution_count": 23,
     "metadata": {},
     "output_type": "execute_result"
    }
   ],
   "source": [
    "compareText(\"James\",\"tobacco\")"
   ]
  },
  {
   "cell_type": "code",
   "execution_count": 24,
   "metadata": {
    "collapsed": false
   },
   "outputs": [
    {
     "name": "stdout",
     "output_type": "stream",
     "text": [
      "Sparsity= 0.00994873046875 bits= 163\n"
     ]
    },
    {
     "data": {
      "image/png": "[encoded data removed]",
      "text/plain": [
       "<matplotlib.figure.Figure at 0x10ae995d0>"
      ]
     },
     "metadata": {},
     "output_type": "display_data"
    }
   ],
   "source": [
    "plotText(\"advsh\")"
   ]
  },
  {
   "cell_type": "code",
   "execution_count": null,
   "metadata": {
    "collapsed": true
   },
   "outputs": [],
   "source": []
  }
 ],
 "metadata": {
  "kernelspec": {
   "display_name": "Python 2",
   "language": "python",
   "name": "python2"
  },
  "language_info": {
   "codemirror_mode": {
    "name": "ipython",
    "version": 2
   },
   "file_extension": ".py",
   "mimetype": "text/x-python",
   "name": "python",
   "nbconvert_exporter": "python",
   "pygments_lexer": "ipython2",
   "version": "2.7.10"
  }
 },
 "nbformat": 4,
 "nbformat_minor": 0
}
